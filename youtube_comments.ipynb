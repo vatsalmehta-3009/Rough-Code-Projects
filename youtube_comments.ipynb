{
 "cells": [
  {
   "cell_type": "code",
   "execution_count": 1,
   "metadata": {},
   "outputs": [],
   "source": [
    "from selenium import webdriver\n",
    "from selenium.webdriver.common.keys import Keys\n",
    "from selenium.webdriver.common.action_chains import ActionChains\n",
    "import time\n",
    "import pandas as pd"
   ]
  },
  {
   "cell_type": "markdown",
   "metadata": {},
   "source": [
    "### path providing"
   ]
  },
  {
   "cell_type": "code",
   "execution_count": 2,
   "metadata": {},
   "outputs": [],
   "source": [
    "Path = 'C:\\\\Users\\\\VATSAL MEHTA\\\\Downloads\\\\chromedriver.exe'\n",
    "driver = webdriver.Chrome(Path)\n",
    "driver.implicitly_wait(30)"
   ]
  },
  {
   "cell_type": "markdown",
   "metadata": {},
   "source": [
    "## Youtube Searching function"
   ]
  },
  {
   "cell_type": "code",
   "execution_count": 3,
   "metadata": {},
   "outputs": [],
   "source": [
    "def you_search(srch):\n",
    "    driver.get('https://www.youtube.com/')\n",
    "    Search = driver.find_element_by_xpath('//input[@id=\"search\"]')\n",
    "    #Search = driver.find_element_by_id(\"search\")\n",
    "    Search.send_keys(srch)\n",
    "    Search.send_keys(Keys.RETURN)\n",
    "    print(\"search complete\")\n",
    "\n",
    "\n",
    "\n"
   ]
  },
  {
   "cell_type": "code",
   "execution_count": 4,
   "metadata": {},
   "outputs": [
    {
     "name": "stdout",
     "output_type": "stream",
     "text": [
      "Enter video name:sham aisha\n",
      "search complete\n"
     ]
    }
   ],
   "source": [
    "x = input(\"Enter video name:\")\n",
    "you_search(x)\n",
    "\n"
   ]
  },
  {
   "cell_type": "code",
   "execution_count": 5,
   "metadata": {},
   "outputs": [],
   "source": [
    "actions = ActionChains(driver)\n",
    "video = driver.find_element_by_xpath('//a[@id=\"video-title\"]')\n",
    "actions.click(video)\n",
    "    \n",
    "actions.perform() \n",
    "time.sleep(2)\n"
   ]
  },
  {
   "cell_type": "code",
   "execution_count": 6,
   "metadata": {},
   "outputs": [],
   "source": [
    "for i in range(1000):\n",
    "    driver.execute_script(\"window.scrollBy(0, 500)\")"
   ]
  },
  {
   "cell_type": "code",
   "execution_count": 7,
   "metadata": {},
   "outputs": [],
   "source": [
    "comments = driver.find_elements_by_xpath('//ytd-expander[@id=\"expander\"]')\n",
    "author = driver.find_elements_by_xpath('//a[@id=\"author-text\"]')"
   ]
  },
  {
   "cell_type": "code",
   "execution_count": 8,
   "metadata": {},
   "outputs": [],
   "source": [
    "cmt = []\n",
    "auth = []\n",
    "for i in comments:\n",
    "    cmt.append(i.text)\n",
    "for i in author:\n",
    "    auth.append(i.text)"
   ]
  },
  {
   "cell_type": "code",
   "execution_count": 9,
   "metadata": {},
   "outputs": [],
   "source": [
    "comment = pd.DataFrame([auth,cmt],['Author','Comment'])"
   ]
  },
  {
   "cell_type": "code",
   "execution_count": 10,
   "metadata": {},
   "outputs": [
    {
     "data": {
      "text/html": [
       "<div>\n",
       "<style scoped>\n",
       "    .dataframe tbody tr th:only-of-type {\n",
       "        vertical-align: middle;\n",
       "    }\n",
       "\n",
       "    .dataframe tbody tr th {\n",
       "        vertical-align: top;\n",
       "    }\n",
       "\n",
       "    .dataframe thead th {\n",
       "        text-align: right;\n",
       "    }\n",
       "</style>\n",
       "<table border=\"1\" class=\"dataframe\">\n",
       "  <thead>\n",
       "    <tr style=\"text-align: right;\">\n",
       "      <th></th>\n",
       "      <th>0</th>\n",
       "      <th>1</th>\n",
       "      <th>2</th>\n",
       "      <th>3</th>\n",
       "      <th>4</th>\n",
       "      <th>5</th>\n",
       "      <th>6</th>\n",
       "      <th>7</th>\n",
       "      <th>8</th>\n",
       "      <th>9</th>\n",
       "      <th>...</th>\n",
       "      <th>230</th>\n",
       "      <th>231</th>\n",
       "      <th>232</th>\n",
       "      <th>233</th>\n",
       "      <th>234</th>\n",
       "      <th>235</th>\n",
       "      <th>236</th>\n",
       "      <th>237</th>\n",
       "      <th>238</th>\n",
       "      <th>239</th>\n",
       "    </tr>\n",
       "  </thead>\n",
       "  <tbody>\n",
       "    <tr>\n",
       "      <th>Author</th>\n",
       "      <td>Shabana Moona</td>\n",
       "      <td>Varsha Pankhaniya</td>\n",
       "      <td>Maneet Giri</td>\n",
       "      <td>Bhavya Gupta</td>\n",
       "      <td>Shiva Chettri</td>\n",
       "      <td>Jui Mhatre</td>\n",
       "      <td>Avantika Raj Vishen-12-A</td>\n",
       "      <td>dimple nagila</td>\n",
       "      <td>Pranav Bhasin</td>\n",
       "      <td>Neeta Thakur</td>\n",
       "      <td>...</td>\n",
       "      <td>Musical soul</td>\n",
       "      <td>jack fernandes</td>\n",
       "      <td>derrick momin</td>\n",
       "      <td>Chilly</td>\n",
       "      <td>sarah malik</td>\n",
       "      <td>Anu Phulwani</td>\n",
       "      <td>Aman Rai</td>\n",
       "      <td>Urvashi S</td>\n",
       "      <td>Aryan Shrivastav</td>\n",
       "      <td>Himanshu Sharma</td>\n",
       "    </tr>\n",
       "    <tr>\n",
       "      <th>Comment</th>\n",
       "      <td>It's October 17th, 12:22 am. I'm sitting on my...</td>\n",
       "      <td>It's hidden treasure.. I really want this song...</td>\n",
       "      <td>I wish Indian cinema was known for song like t...</td>\n",
       "      <td>Whose listening during corona quarantine at ho...</td>\n",
       "      <td>I think this song is very very underrated.</td>\n",
       "      <td>i have my entrance  exams round the corner and...</td>\n",
       "      <td>Sit alone,make some tea,Play this song. You wi...</td>\n",
       "      <td>Sham bhi koi jaise hai nadi\\nLehar lehar jaise...</td>\n",
       "      <td>The piece is ageing, beautifully.</td>\n",
       "      <td>So, I was just doing my daily chores and I sta...</td>\n",
       "      <td>...</td>\n",
       "      <td>This song is like hearbeat....❤\\nRead more</td>\n",
       "      <td>2018 anyone?? I'm in love with this song.\\nRea...</td>\n",
       "      <td>These song relaxed my mind...\\nRead more</td>\n",
       "      <td>These kinda songs are no more made. 💔\\nRead more</td>\n",
       "      <td>26th December 2019...12.20 am. Cold breezy nig...</td>\n",
       "      <td>Any one 2020 🔥🔥🤤\\nRead more</td>\n",
       "      <td>Had a fun night today...fell in love all over ...</td>\n",
       "      <td>This song is so soothing.. The music and the e...</td>\n",
       "      <td>From Tanmay's stream\\nRead more</td>\n",
       "      <td>This Song Heals my Soul ! Magic ❣️\\nRead more</td>\n",
       "    </tr>\n",
       "  </tbody>\n",
       "</table>\n",
       "<p>2 rows × 240 columns</p>\n",
       "</div>"
      ],
      "text/plain": [
       "                                                       0    \\\n",
       "Author                                       Shabana Moona   \n",
       "Comment  It's October 17th, 12:22 am. I'm sitting on my...   \n",
       "\n",
       "                                                       1    \\\n",
       "Author                                   Varsha Pankhaniya   \n",
       "Comment  It's hidden treasure.. I really want this song...   \n",
       "\n",
       "                                                       2    \\\n",
       "Author                                         Maneet Giri   \n",
       "Comment  I wish Indian cinema was known for song like t...   \n",
       "\n",
       "                                                       3    \\\n",
       "Author                                        Bhavya Gupta   \n",
       "Comment  Whose listening during corona quarantine at ho...   \n",
       "\n",
       "                                                4    \\\n",
       "Author                                Shiva Chettri   \n",
       "Comment  I think this song is very very underrated.   \n",
       "\n",
       "                                                       5    \\\n",
       "Author                                          Jui Mhatre   \n",
       "Comment  i have my entrance  exams round the corner and...   \n",
       "\n",
       "                                                       6    \\\n",
       "Author                            Avantika Raj Vishen-12-A   \n",
       "Comment  Sit alone,make some tea,Play this song. You wi...   \n",
       "\n",
       "                                                       7    \\\n",
       "Author                                       dimple nagila   \n",
       "Comment  Sham bhi koi jaise hai nadi\\nLehar lehar jaise...   \n",
       "\n",
       "                                       8    \\\n",
       "Author                       Pranav Bhasin   \n",
       "Comment  The piece is ageing, beautifully.   \n",
       "\n",
       "                                                       9    ...  \\\n",
       "Author                                        Neeta Thakur  ...   \n",
       "Comment  So, I was just doing my daily chores and I sta...  ...   \n",
       "\n",
       "                                                230  \\\n",
       "Author                                 Musical soul   \n",
       "Comment  This song is like hearbeat....❤\\nRead more   \n",
       "\n",
       "                                                       231  \\\n",
       "Author                                      jack fernandes   \n",
       "Comment  2018 anyone?? I'm in love with this song.\\nRea...   \n",
       "\n",
       "                                              232  \\\n",
       "Author                              derrick momin   \n",
       "Comment  These song relaxed my mind...\\nRead more   \n",
       "\n",
       "                                                      233  \\\n",
       "Author                                             Chilly   \n",
       "Comment  These kinda songs are no more made. 💔\\nRead more   \n",
       "\n",
       "                                                       234  \\\n",
       "Author                                         sarah malik   \n",
       "Comment  26th December 2019...12.20 am. Cold breezy nig...   \n",
       "\n",
       "                                 235  \\\n",
       "Author                  Anu Phulwani   \n",
       "Comment  Any one 2020 🔥🔥🤤\\nRead more   \n",
       "\n",
       "                                                       236  \\\n",
       "Author                                            Aman Rai   \n",
       "Comment  Had a fun night today...fell in love all over ...   \n",
       "\n",
       "                                                       237  \\\n",
       "Author                                           Urvashi S   \n",
       "Comment  This song is so soothing.. The music and the e...   \n",
       "\n",
       "                                     238  \\\n",
       "Author                  Aryan Shrivastav   \n",
       "Comment  From Tanmay's stream\\nRead more   \n",
       "\n",
       "                                                   239  \n",
       "Author                                 Himanshu Sharma  \n",
       "Comment  This Song Heals my Soul ! Magic ❣️\\nRead more  \n",
       "\n",
       "[2 rows x 240 columns]"
      ]
     },
     "execution_count": 10,
     "metadata": {},
     "output_type": "execute_result"
    }
   ],
   "source": [
    "comment.head()"
   ]
  },
  {
   "cell_type": "code",
   "execution_count": null,
   "metadata": {},
   "outputs": [],
   "source": []
  },
  {
   "cell_type": "code",
   "execution_count": null,
   "metadata": {},
   "outputs": [],
   "source": []
  },
  {
   "cell_type": "code",
   "execution_count": null,
   "metadata": {},
   "outputs": [],
   "source": []
  }
 ],
 "metadata": {
  "kernelspec": {
   "display_name": "Python 3",
   "language": "python",
   "name": "python3"
  },
  "language_info": {
   "codemirror_mode": {
    "name": "ipython",
    "version": 3
   },
   "file_extension": ".py",
   "mimetype": "text/x-python",
   "name": "python",
   "nbconvert_exporter": "python",
   "pygments_lexer": "ipython3",
   "version": "3.7.6"
  }
 },
 "nbformat": 4,
 "nbformat_minor": 4
}
